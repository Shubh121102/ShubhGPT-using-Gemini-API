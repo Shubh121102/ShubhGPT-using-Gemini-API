{
  "nbformat": 4,
  "nbformat_minor": 0,
  "metadata": {
    "colab": {
      "provenance": [],
      "authorship_tag": "ABX9TyNDo9Psdqfw0TebzudSTn7Z",
      "include_colab_link": true
    },
    "kernelspec": {
      "name": "python3",
      "display_name": "Python 3"
    },
    "language_info": {
      "name": "python"
    }
  },
  "cells": [
    {
      "cell_type": "markdown",
      "metadata": {
        "id": "view-in-github",
        "colab_type": "text"
      },
      "source": [
        "<a href=\"https://colab.research.google.com/github/Shubh121102/ShubhGPT-using-Gemini-API/blob/main/ShubhGPT.ipynb\" target=\"_parent\"><img src=\"https://colab.research.google.com/assets/colab-badge.svg\" alt=\"Open In Colab\"/></a>"
      ]
    },
    {
      "cell_type": "code",
      "source": [
        "!pip install -q google-generativeai"
      ],
      "metadata": {
        "collapsed": true,
        "id": "1uHpS8qE_aDS"
      },
      "execution_count": 1,
      "outputs": []
    },
    {
      "cell_type": "code",
      "source": [
        "import google.generativeai as genai\n",
        "from google.colab import userdata\n",
        "GOOGLE_API_KEY=userdata.get('GOOGLE_API_KEY')"
      ],
      "metadata": {
        "id": "76vTO0vN_TTU"
      },
      "execution_count": 2,
      "outputs": []
    },
    {
      "cell_type": "code",
      "source": [
        "import os\n",
        "genai.configure(api_key=GOOGLE_API_KEY)"
      ],
      "metadata": {
        "id": "5SDufU-eAmP_"
      },
      "execution_count": 3,
      "outputs": []
    },
    {
      "cell_type": "code",
      "source": [
        "def ShubhGPT():\n",
        "  model= genai.GenerativeModel(\"gemini-pro\")\n",
        "  history=[]\n",
        "  print('Hello, howya doin?')\n",
        "  while True:\n",
        "\n",
        "    user_input=input('You:')\n",
        "    if user_input.lower() in ['quit','exit']:\n",
        "      break\n",
        "    chat = model.start_chat(\n",
        "        history=history\n",
        "    )\n",
        "\n",
        "    response = chat.send_message(user_input)\n",
        "\n",
        "    llm_response=response.text\n",
        "\n",
        "    print(f'Bot: {llm_response}')\n",
        "\n",
        "    history.append({'role':'user','parts':[user_input]})\n",
        "    history.append({'role':'model','parts':[llm_response]})\n"
      ],
      "metadata": {
        "id": "P5Dz7m3VF7AF"
      },
      "execution_count": 4,
      "outputs": []
    },
    {
      "cell_type": "code",
      "source": [
        "ShubhGPT()"
      ],
      "metadata": {
        "colab": {
          "base_uri": "https://localhost:8080/",
          "height": 662
        },
        "id": "0thDdlwA8ggO",
        "outputId": "da95dbdf-fb5e-4859-928e-27599e798c83"
      },
      "execution_count": 6,
      "outputs": [
        {
          "name": "stdout",
          "output_type": "stream",
          "text": [
            "Hello, howya doin?\n",
            "You:I'm doing good\n",
            "Bot: That's great to hear! I'm glad you're having a good day. Is there anything I can help you with today?\n",
            "You:tell me about border gavaskar trophy \n",
            "Bot: The Border-Gavaskar Trophy is a Test cricket series played between Australia and India. It is named after former Australian cricketer Allan Border and former Indian cricketer Sunil Gavaskar. The trophy was first awarded in 1996, and has been contested 15 times since then.\n",
            "\n",
            "Australia has won the trophy 9 times, while India has won 5 times. The series has been drawn once.\n",
            "\n",
            "The Border-Gavaskar Trophy is one of the most prestigious Test cricket series in the world. It is known for its intense rivalry and high level of competition.\n",
            "\n",
            "The current holders of the Border-Gavaskar Trophy are Australia, who won the series 2-1 in 2020-21.\n",
            "\n",
            "**Format**\n",
            "\n",
            "The Border-Gavaskar Trophy is played over four Test matches. The matches are played at different venues in Australia and India.\n",
            "\n",
            "**History**\n",
            "\n",
            "The first Border-Gavaskar Trophy series was played in 1996. Australia won the series 2-1.\n",
            "\n",
            "The series has been dominated by Australia in recent years. Australia has won the last three series, and has not lost a Test match to India since 2014.\n",
            "\n",
            "**Significance**\n",
            "\n",
            "The Border-Gavaskar Trophy is a major event in the cricketing calendar. It is one of the most prestigious Test cricket series in the world, and is known for its intense rivalry and high level of competition.\n",
            "\n",
            "The series is also important for the two countries involved. Australia and India are two of the leading cricketing nations in the world, and the Border-Gavaskar Trophy is a chance for them to test their skills against each other.\n",
            "\n",
            "**Future**\n",
            "\n",
            "The next Border-Gavaskar Trophy series will be played in 2023. The series will be played in India.\n",
            "\n",
            "India will be hoping to regain the Border-Gavaskar Trophy after losing the last three series. Australia will be looking to continue their dominance of the series.\n",
            "\n",
            "The Border-Gavaskar Trophy is sure to be a closely contested series, and it is one that cricket fans around the world will be eagerly anticipating.\n",
            "You:exit\n"
          ]
        }
      ]
    }
  ]
}